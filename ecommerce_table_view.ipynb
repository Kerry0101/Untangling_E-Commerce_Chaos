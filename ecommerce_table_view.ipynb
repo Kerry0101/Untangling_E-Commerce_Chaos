{
 "cells": [
  {
   "cell_type": "markdown",
   "id": "074ab666",
   "metadata": {},
   "source": [
    "# E-commerce Orders Data Table Viewer\n",
    "\n",
    "This notebook converts the e-commerce orders CSV data into a formatted table for better readability and analysis."
   ]
  },
  {
   "cell_type": "markdown",
   "id": "e3124744",
   "metadata": {},
   "source": [
    "## 1. Import Required Libraries"
   ]
  },
  {
   "cell_type": "code",
   "execution_count": null,
   "id": "02c62265",
   "metadata": {},
   "outputs": [],
   "source": [
    "# Import pandas for data manipulation\n",
    "import pandas as pd\n",
    "\n",
    "# Import visualization libraries\n",
    "import matplotlib.pyplot as plt\n",
    "import seaborn as sns\n",
    "\n",
    "# Set styling for better visualization\n",
    "pd.set_option('display.max_columns', None)  # Show all columns\n",
    "sns.set(style=\"whitegrid\")  # Set seaborn style"
   ]
  }
 ],
 "metadata": {
  "language_info": {
   "name": "python"
  }
 },
 "nbformat": 4,
 "nbformat_minor": 5
}
